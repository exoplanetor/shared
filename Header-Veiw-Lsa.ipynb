{
 "cells": [
  {
   "cell_type": "code",
   "execution_count": 1,
   "id": "45ac2e32-e452-4b17-bda1-8016f82a47e0",
   "metadata": {},
   "outputs": [],
   "source": [
    "import numpy as np\n",
    "from astropy.io import fits\n",
    "from pathlib import Path\n",
    "import os\n",
    "from convenience_functions import show_image\n",
    "import matplotlib.pyplot as plt\n"
   ]
  },
  {
   "cell_type": "code",
   "execution_count": 2,
   "id": "a62d7d30-8da5-4c98-b423-f59de164cbe2",
   "metadata": {
    "scrolled": true
   },
   "outputs": [
    {
     "data": {
      "text/plain": [
       "SIMPLE  =                    T / conforms to FITS standard                      \n",
       "BITPIX  =                  -32 / array data type                                \n",
       "NAXIS   =                    2 / number of array dimensions                     \n",
       "NAXIS1  =                  800                                                  \n",
       "NAXIS2  =                  800                                                  \n",
       "FORMAT  = 'DELACED '           / Data interlacing & coadding info               \n",
       "DATATYPE= 'DIF     '           / Data description; prereads,postreads or dif    \n",
       "NSAMPLES=                    1 / Number of samples                              \n",
       "READMODE= 'RESET-PRE-POST'     / Readout type: Post-Reset-Pre or Reset-Pre-Post \n",
       "SAMPLED = 'FRAMES  '           / Sample type: frame, line or column             \n",
       "GAINDL  =                   35 / Pixel integration time, sequencer clocks       \n",
       "PIXITIME=            1.0800E-5 / Pixel integration time, seconds                \n",
       "RESETDL =                    1 / Line reset time, sequencer clocks              \n",
       "IMAGETYP= 'DARK    '           / Image Type Code                                \n",
       "OBJECT  = 'Dark Monitor'       / Object Name                                    \n",
       "TIMESYS = 'UTC     '           / Time system (usually UTC)                      \n",
       "TIME-OBS= '22:09:37.586'       / UTC time at start of exposure [hhmmss.s]       \n",
       "DATE-OBS= '2012-10-07T22:09:37.586' / UTC epoch                                 \n",
       "JD      =        2456208.42338 / Julian Day Number                              \n",
       "EXPTIME =                40.04 / Exposure time [seconds]                        \n",
       "NCOADDS =                    1 / Number of coadded frames                       \n",
       "FILENAME= 'ir121007dark.0006'  / Image filename                                 \n",
       "UNIQNAME= '120925N4.443'       / Data system unique filename for image          \n",
       "OBSERVER= 'Juan Espinoza'      / Observer names                                 \n",
       "OWNER   = 'ALL     '           / SMARTS Project ID code                         \n",
       "INSTRUME= 'ANDICAM-IR'          / Instrument name                               \n",
       "DETECTOR= 'NICMOS 4'            / Detector name                                 \n",
       "OBSERVAT= 'CTIO    '            / Observatory name                              \n",
       "TELESCOP= 'ct13m    '           / 1.3m ex-2MASS Telescope                       \n",
       "LATITUDE= '-30:09:54'           / Telescope Latitude [degrees]                  \n",
       "LONGITUD= '+70:48:54'           / Telescope Longitude [degrees W]               \n",
       "ALTITUDE=                 2215 / Telescope Altitude [meters]                    \n",
       "COMMENT darkmonitor.obs                                                         \n",
       "CCDFILT =                    0 / CCD Channel Filter Wheel position              \n",
       "CCDFLTID= 'I       '           / CCD Channel Filter ID                          \n",
       "IRFILT  =                    7 / IR Channel Filter Wheel position               \n",
       "IRFLTID = 'DARK    '           / IR Channel Filter ID                           \n",
       "TILT1   =                 1040 / IR T-T Mirror Mechanism 1 position             \n",
       "TILT2   =                 1590 / IR T-T Mirror Mechanism 2 position             \n",
       "TILT3   =                 1960 / IR T-T Mirror Mechanism 3 position             \n",
       "FOCUS   =                 1530 / IR Mirror focus position                       \n",
       "TCSLINK = 'Enabled '           / TCS Link Status [Enabled|Disabled|Idle]        \n",
       "RA      = '18:03:41.12'        / Telescope Right Ascension [hhmmss.ss]          \n",
       "DEC     = '+21:39:38.7'        / Telescope Declination [ddmmss.s]               \n",
       "EQUINOX =             2000.000 / Equinox of RA and DEC                          \n",
       "ST      = '18:34:13'           / Local Sidereal Time [hhmmss.s]                 \n",
       "HA      = '+00:30:00'          / Hour Angle [hhmmss.s]                          \n",
       "SECZ    =                 1.63 / Airmass [Sec ZD]                               \n",
       "TELFOCUS=                  -25 / Telescope focus                                \n",
       "TELTEMP =                   10 / Telescope temperature [degrees C]              \n",
       "OBSID   = 'ct13m.ir.20121007T221035Z' / iSTB OBServation IDentifier             \n",
       "DTSITE  = 'ct                '  /  observatory location                         \n",
       "DTTELESC= 'ct13m             '  /  telescope identifier                         \n",
       "DTINSTRU= 'andicam           '  /  instrument identifier                        \n",
       "DTCALDAT= '2012-10-07        '  /  calendar date from observing schedule        \n",
       "ODATEOBS= '2012-10-07'         / previous DATE-OBS                              \n",
       "DTPROPID= 'smarts            '  /  observing proposal ID                        \n",
       "DTACQNAM= '/data/observer/ir121007dark.0006.fits'  /  file name supplied at tele\n",
       "CHECKSUM= 'iiANlf1Mif8Mif8M'   / HDU checksum updated 2024-09-11T07:07:36       \n",
       "DATASUM = '2152522947'          /  checksum of data records                     \n",
       "HISTORY Image was compressed by CFITSIO using scaled integer quantization:      \n",
       "HISTORY   q = 9999.000000 / quantized level scaling parameter                   \n",
       "HISTORY 'NONE    '           / Lossless compression without quantization        \n",
       "OBSTYPE = 'DARK    '                                                            \n",
       "PROCTYPE= 'raw     '                                                            \n",
       "PRODTYPE= 'image   '                                                            \n",
       "HIERARCH TRIM_IMAGE = 'trimim  ' / Shortened name for ccdproc command           \n",
       "TRIMIM  = 'ccd=<CCDData>'                                                       \n",
       "BUNIT   = 'adu     '                                                            "
      ]
     },
     "execution_count": 2,
     "metadata": {},
     "output_type": "execute_result"
    }
   ],
   "source": [
    "# Opening the image file data and looking at the header to look for :\n",
    "hdu_list = fits.open('/Users/applestore/exo-observe/Data/WASP-12b-20150209/trim/0f36131825a3aecad48bb560c4098ef7_ct3811842_Trim.fits')\n",
    "\n",
    "hdu = hdu_list[0]\n",
    "hdu.header"
   ]
  },
  {
   "cell_type": "code",
   "execution_count": null,
   "id": "55560a3a-9de4-4ef9-a753-58a2feeb2af9",
   "metadata": {},
   "outputs": [],
   "source": [
    "# Put all frames you want to change the flag IMG_TYP to object in a directory (say light) and\n",
    "# then run the following. Repeat for bias, dark or flat frames making sure you change the keyword 'object' to the \n",
    "# correct file type you want each time.\n",
    "\n",
    "reduced_path = Path('/Users/applestore/exo-observe/Data/WASP-12b-20150209/trim/light')\n",
    "\n",
    "# Extract the filenames of the image files\n",
    "image_files = [os.path.join(reduced_path, filename) for filename in os.listdir(reduced_path) if filename.endswith(\".fits\")]\n",
    "\n",
    "for image_file in image_files:\n",
    "    hdulist = fits.open(image_file, mode='update')  # Open the file for modification\n",
    "    header = hdulist[0].header  # Access the header of the primary HDU\n",
    "#    header['IMG_TYP'] = 'dark'  # Add the keyword with the value 'adu'\n",
    "\n",
    "    if 'BUNIT' not in header:  # Check if the keyword already exists\n",
    "        header['BUNIT'] = 'adu'  # Add the keyword with the value 'adu'\n",
    "    if 'IMG_TYP' not in header:  # Check if the keyword already exists\n",
    "        header['IMG_TYP'] = 'object'  # Add the keyword with the value 'adu'\n",
    "        \n",
    "    hdulist.flush()  # Write changes to disk\n",
    "    hdulist.close()  # Close the file"
   ]
  }
 ],
 "metadata": {
  "kernelspec": {
   "display_name": "My Env",
   "language": "python",
   "name": "myenv_kernel"
  },
  "language_info": {
   "codemirror_mode": {
    "name": "ipython",
    "version": 3
   },
   "file_extension": ".py",
   "mimetype": "text/x-python",
   "name": "python",
   "nbconvert_exporter": "python",
   "pygments_lexer": "ipython3",
   "version": "3.12.1"
  }
 },
 "nbformat": 4,
 "nbformat_minor": 5
}
